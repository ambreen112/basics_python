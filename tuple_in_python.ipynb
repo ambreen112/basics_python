{
  "nbformat": 4,
  "nbformat_minor": 0,
  "metadata": {
    "colab": {
      "provenance": [],
      "authorship_tag": "ABX9TyMKcEkXciR2zxVrJ0YeaHMB",
      "include_colab_link": true
    },
    "kernelspec": {
      "name": "python3",
      "display_name": "Python 3"
    },
    "language_info": {
      "name": "python"
    }
  },
  "cells": [
    {
      "cell_type": "markdown",
      "metadata": {
        "id": "view-in-github",
        "colab_type": "text"
      },
      "source": [
        "<a href=\"https://colab.research.google.com/github/ambreen112/basics_python/blob/main/tuple_in_python.ipynb\" target=\"_parent\"><img src=\"https://colab.research.google.com/assets/colab-badge.svg\" alt=\"Open In Colab\"/></a>"
      ]
    },
    {
      "cell_type": "markdown",
      "source": [
        "creating tuple"
      ],
      "metadata": {
        "id": "L4z-o7KmxwZw"
      }
    },
    {
      "cell_type": "code",
      "source": [
        "emp=()\n",
        "print(type(emp))"
      ],
      "metadata": {
        "colab": {
          "base_uri": "https://localhost:8080/"
        },
        "id": "xZNwHe3wxydB",
        "outputId": "b33260d3-47d8-47c0-bc01-4e30b898cffe"
      },
      "execution_count": 37,
      "outputs": [
        {
          "output_type": "stream",
          "name": "stdout",
          "text": [
            "<class 'tuple'>\n"
          ]
        }
      ]
    },
    {
      "cell_type": "code",
      "source": [
        "city = \"karchi\",\n",
        "type(city)"
      ],
      "metadata": {
        "colab": {
          "base_uri": "https://localhost:8080/"
        },
        "id": "YBexvMdvyEfp",
        "outputId": "fedbedf9-9f1d-4423-b125-ed2bd45b08cd"
      },
      "execution_count": 40,
      "outputs": [
        {
          "output_type": "execute_result",
          "data": {
            "text/plain": [
              "tuple"
            ]
          },
          "metadata": {},
          "execution_count": 40
        }
      ]
    },
    {
      "cell_type": "code",
      "source": [
        "city=(\"karachi\", \"lahore\", \"multan\")\n",
        "city"
      ],
      "metadata": {
        "colab": {
          "base_uri": "https://localhost:8080/"
        },
        "id": "NSTj4u5Pyl-h",
        "outputId": "765f72a2-9009-4228-9d4c-bc3c2b9b9746"
      },
      "execution_count": 41,
      "outputs": [
        {
          "output_type": "execute_result",
          "data": {
            "text/plain": [
              "('karachi', 'lahore', 'multan')"
            ]
          },
          "metadata": {},
          "execution_count": 41
        }
      ]
    },
    {
      "cell_type": "code",
      "source": [
        "city.append(\"islamabad\")\n",
        "city"
      ],
      "metadata": {
        "colab": {
          "base_uri": "https://localhost:8080/",
          "height": 158
        },
        "id": "SlPM-iS4zDal",
        "outputId": "70880d53-346b-4120-c38f-4d135bcde6c2"
      },
      "execution_count": 42,
      "outputs": [
        {
          "output_type": "error",
          "ename": "AttributeError",
          "evalue": "'tuple' object has no attribute 'append'",
          "traceback": [
            "\u001b[0;31m---------------------------------------------------------------------------\u001b[0m",
            "\u001b[0;31mAttributeError\u001b[0m                            Traceback (most recent call last)",
            "\u001b[0;32m/tmp/ipython-input-42-798945319.py\u001b[0m in \u001b[0;36m<cell line: 0>\u001b[0;34m()\u001b[0m\n\u001b[0;32m----> 1\u001b[0;31m \u001b[0mcity\u001b[0m\u001b[0;34m.\u001b[0m\u001b[0mappend\u001b[0m\u001b[0;34m(\u001b[0m\u001b[0;34m\"islamabad\"\u001b[0m\u001b[0;34m)\u001b[0m\u001b[0;34m\u001b[0m\u001b[0;34m\u001b[0m\u001b[0m\n\u001b[0m\u001b[1;32m      2\u001b[0m \u001b[0mcity\u001b[0m\u001b[0;34m\u001b[0m\u001b[0;34m\u001b[0m\u001b[0m\n",
            "\u001b[0;31mAttributeError\u001b[0m: 'tuple' object has no attribute 'append'"
          ]
        }
      ]
    },
    {
      "cell_type": "code",
      "source": [
        "print(city)"
      ],
      "metadata": {
        "colab": {
          "base_uri": "https://localhost:8080/"
        },
        "id": "uo0MR7G6zMME",
        "outputId": "9edeb973-100e-473e-b320-e1316ce3c225"
      },
      "execution_count": 43,
      "outputs": [
        {
          "output_type": "stream",
          "name": "stdout",
          "text": [
            "('karachi', 'lahore', 'multan')\n"
          ]
        }
      ]
    },
    {
      "cell_type": "code",
      "source": [
        "city[1]"
      ],
      "metadata": {
        "colab": {
          "base_uri": "https://localhost:8080/",
          "height": 36
        },
        "id": "L0gAOd4jzjuj",
        "outputId": "c823e172-2f3c-4d47-80ba-677cd1647d01"
      },
      "execution_count": 44,
      "outputs": [
        {
          "output_type": "execute_result",
          "data": {
            "text/plain": [
              "'lahore'"
            ],
            "application/vnd.google.colaboratory.intrinsic+json": {
              "type": "string"
            }
          },
          "metadata": {},
          "execution_count": 44
        }
      ]
    },
    {
      "cell_type": "code",
      "source": [
        "city[-1]"
      ],
      "metadata": {
        "colab": {
          "base_uri": "https://localhost:8080/",
          "height": 36
        },
        "id": "-ZPQ4Omgzouu",
        "outputId": "2088e0c5-989e-4729-af8f-dbd278701cc2"
      },
      "execution_count": 45,
      "outputs": [
        {
          "output_type": "execute_result",
          "data": {
            "text/plain": [
              "'multan'"
            ],
            "application/vnd.google.colaboratory.intrinsic+json": {
              "type": "string"
            }
          },
          "metadata": {},
          "execution_count": 45
        }
      ]
    },
    {
      "cell_type": "markdown",
      "source": [
        "concatenation"
      ],
      "metadata": {
        "id": "sJPh-eCzz53P"
      }
    },
    {
      "cell_type": "code",
      "source": [
        "print(city)"
      ],
      "metadata": {
        "colab": {
          "base_uri": "https://localhost:8080/"
        },
        "id": "Zge5ATnjz9X5",
        "outputId": "ca298c5e-6668-4e2e-ce11-2442df1c0fc6"
      },
      "execution_count": 46,
      "outputs": [
        {
          "output_type": "stream",
          "name": "stdout",
          "text": [
            "('karachi', 'lahore', 'multan')\n"
          ]
        }
      ]
    },
    {
      "cell_type": "code",
      "source": [
        "num =(1, 2, 3, 4)\n",
        "print(num)"
      ],
      "metadata": {
        "colab": {
          "base_uri": "https://localhost:8080/"
        },
        "id": "LAgIuLx70BFS",
        "outputId": "17f6385e-3f6b-4e0e-f253-697d291a23af"
      },
      "execution_count": 48,
      "outputs": [
        {
          "output_type": "stream",
          "name": "stdout",
          "text": [
            "(1, 2, 3, 4)\n"
          ]
        }
      ]
    },
    {
      "cell_type": "code",
      "source": [
        "print(city + num)"
      ],
      "metadata": {
        "colab": {
          "base_uri": "https://localhost:8080/"
        },
        "id": "a02sW0mn0Kxb",
        "outputId": "655516dd-d1da-4201-b4c8-bf8cd4a51249"
      },
      "execution_count": 49,
      "outputs": [
        {
          "output_type": "stream",
          "name": "stdout",
          "text": [
            "('karachi', 'lahore', 'multan', 1, 2, 3, 4)\n"
          ]
        }
      ]
    },
    {
      "cell_type": "markdown",
      "source": [
        "Nesting"
      ],
      "metadata": {
        "id": "YLf7kvja0a2V"
      }
    },
    {
      "cell_type": "code",
      "source": [
        "nest =(city, num)\n",
        "print(nest)"
      ],
      "metadata": {
        "colab": {
          "base_uri": "https://localhost:8080/"
        },
        "id": "7GXtq7Y90duq",
        "outputId": "dce35f36-9b4d-4a04-fa03-559a348b69bd"
      },
      "execution_count": 51,
      "outputs": [
        {
          "output_type": "stream",
          "name": "stdout",
          "text": [
            "(('karachi', 'lahore', 'multan'), (1, 2, 3, 4))\n"
          ]
        }
      ]
    },
    {
      "cell_type": "markdown",
      "source": [
        "Repitation"
      ],
      "metadata": {
        "id": "sr48tido1KiV"
      }
    },
    {
      "cell_type": "code",
      "source": [
        "rep = ('python,')* 10\n",
        "print(rep)"
      ],
      "metadata": {
        "colab": {
          "base_uri": "https://localhost:8080/"
        },
        "id": "UTT3pFEU1Mol",
        "outputId": "1f8c29aa-7a2a-4aa6-a289-7fbb8b1c49b0"
      },
      "execution_count": 53,
      "outputs": [
        {
          "output_type": "stream",
          "name": "stdout",
          "text": [
            "python,python,python,python,python,python,python,python,python,python,\n"
          ]
        }
      ]
    },
    {
      "cell_type": "markdown",
      "source": [
        "slicing"
      ],
      "metadata": {
        "id": "-dF2r7RF1iIj"
      }
    },
    {
      "cell_type": "code",
      "source": [
        "num=(1, 2, 4, 5)\n",
        "print(num)"
      ],
      "metadata": {
        "colab": {
          "base_uri": "https://localhost:8080/"
        },
        "id": "pxUo0paL1j3U",
        "outputId": "9a5f349f-dbf3-4f24-c05f-0e0a5afff4c5"
      },
      "execution_count": 55,
      "outputs": [
        {
          "output_type": "stream",
          "name": "stdout",
          "text": [
            "(1, 2, 4, 5)\n"
          ]
        }
      ]
    },
    {
      "cell_type": "code",
      "source": [
        "num[1:]"
      ],
      "metadata": {
        "colab": {
          "base_uri": "https://localhost:8080/"
        },
        "id": "MQaT7sBv2Bps",
        "outputId": "8648e154-62cf-44e7-e978-29f667fc2462"
      },
      "execution_count": 56,
      "outputs": [
        {
          "output_type": "execute_result",
          "data": {
            "text/plain": [
              "(2, 4, 5)"
            ]
          },
          "metadata": {},
          "execution_count": 56
        }
      ]
    },
    {
      "cell_type": "code",
      "source": [
        "num[:]"
      ],
      "metadata": {
        "colab": {
          "base_uri": "https://localhost:8080/"
        },
        "id": "RwPITiOb2FeK",
        "outputId": "dbdd7a4c-f15a-47aa-9698-7c0627c1dc37"
      },
      "execution_count": 57,
      "outputs": [
        {
          "output_type": "execute_result",
          "data": {
            "text/plain": [
              "(1, 2, 4, 5)"
            ]
          },
          "metadata": {},
          "execution_count": 57
        }
      ]
    },
    {
      "cell_type": "code",
      "source": [
        "num[::-1]"
      ],
      "metadata": {
        "colab": {
          "base_uri": "https://localhost:8080/"
        },
        "id": "WJLFyzCJ2J8-",
        "outputId": "7a182a3d-a04a-450d-bd94-89f7b5cfc6e2"
      },
      "execution_count": 58,
      "outputs": [
        {
          "output_type": "execute_result",
          "data": {
            "text/plain": [
              "(5, 4, 2, 1)"
            ]
          },
          "metadata": {},
          "execution_count": 58
        }
      ]
    },
    {
      "cell_type": "markdown",
      "source": [
        "unpacking"
      ],
      "metadata": {
        "id": "I6dYskeP2TzI"
      }
    },
    {
      "cell_type": "code",
      "source": [
        "tuple(\"hasnain\")\n"
      ],
      "metadata": {
        "colab": {
          "base_uri": "https://localhost:8080/"
        },
        "id": "3RZ6mZ8H2WIh",
        "outputId": "979f7979-e721-4a22-ca0a-f50813e3ddb9"
      },
      "execution_count": 59,
      "outputs": [
        {
          "output_type": "execute_result",
          "data": {
            "text/plain": [
              "('h', 'u', 's', 'n', 'a', 'i', 'n')"
            ]
          },
          "metadata": {},
          "execution_count": 59
        }
      ]
    },
    {
      "cell_type": "code",
      "source": [
        "a, b, c, d = num\n",
        "print(a, b, c, d)"
      ],
      "metadata": {
        "colab": {
          "base_uri": "https://localhost:8080/"
        },
        "id": "hItQRZlI2wnT",
        "outputId": "aab36852-d9e0-4617-e7bd-c28129e45b61"
      },
      "execution_count": 62,
      "outputs": [
        {
          "output_type": "stream",
          "name": "stdout",
          "text": [
            "1 2 4 5\n"
          ]
        }
      ]
    },
    {
      "cell_type": "code",
      "source": [
        "a, *b, c = num\n",
        "print(a, b, c)"
      ],
      "metadata": {
        "colab": {
          "base_uri": "https://localhost:8080/"
        },
        "id": "7-yXwLLP3QqU",
        "outputId": "8924c1c0-01a9-4555-cf81-fc1f5cc1d47e"
      },
      "execution_count": 63,
      "outputs": [
        {
          "output_type": "stream",
          "name": "stdout",
          "text": [
            "1 [2, 4] 5\n"
          ]
        }
      ]
    },
    {
      "cell_type": "markdown",
      "source": [
        "built in function"
      ],
      "metadata": {
        "id": "2NFp_jK631hy"
      }
    },
    {
      "cell_type": "code",
      "source": [
        "num1 = (2, 3, 4, 5, 6)\n",
        "num.count(3)"
      ],
      "metadata": {
        "colab": {
          "base_uri": "https://localhost:8080/"
        },
        "id": "a5oFPP1m34tH",
        "outputId": "71c2bde7-6521-4156-9db7-15123c09da53"
      },
      "execution_count": 64,
      "outputs": [
        {
          "output_type": "execute_result",
          "data": {
            "text/plain": [
              "0"
            ]
          },
          "metadata": {},
          "execution_count": 64
        }
      ]
    },
    {
      "cell_type": "code",
      "source": [
        "sum(num1)"
      ],
      "metadata": {
        "colab": {
          "base_uri": "https://localhost:8080/"
        },
        "id": "taX839MI4OGe",
        "outputId": "7142a031-039d-4f0b-ce31-84d280bd573e"
      },
      "execution_count": 66,
      "outputs": [
        {
          "output_type": "execute_result",
          "data": {
            "text/plain": [
              "20"
            ]
          },
          "metadata": {},
          "execution_count": 66
        }
      ]
    },
    {
      "cell_type": "code",
      "source": [
        "len(num1)"
      ],
      "metadata": {
        "colab": {
          "base_uri": "https://localhost:8080/"
        },
        "id": "sUtccXMv4csU",
        "outputId": "d7802ced-bbb7-4f87-e590-508b1521ed7f"
      },
      "execution_count": 67,
      "outputs": [
        {
          "output_type": "execute_result",
          "data": {
            "text/plain": [
              "5"
            ]
          },
          "metadata": {},
          "execution_count": 67
        }
      ]
    },
    {
      "cell_type": "markdown",
      "source": [
        "Nesting tuple in a list"
      ],
      "metadata": {
        "id": "vsxJFHFs4xPT"
      }
    },
    {
      "cell_type": "code",
      "source": [
        "lst = [(1, 2, 3), (5, 7, 9)]\n",
        "print(lst)"
      ],
      "metadata": {
        "colab": {
          "base_uri": "https://localhost:8080/"
        },
        "id": "3Td7h4rA40qB",
        "outputId": "6b6df065-b302-4cb6-f21b-ba4dbb848ed8"
      },
      "execution_count": 68,
      "outputs": [
        {
          "output_type": "stream",
          "name": "stdout",
          "text": [
            "[(1, 2, 3), (5, 7, 9)]\n"
          ]
        }
      ]
    },
    {
      "cell_type": "code",
      "source": [
        "lst.append((\"rabbit\", \"multan\"))\n",
        "print(lst)"
      ],
      "metadata": {
        "colab": {
          "base_uri": "https://localhost:8080/"
        },
        "id": "ZoSpjrzm5F6n",
        "outputId": "6aa900d6-9e73-463c-decb-7e1ab1a82947"
      },
      "execution_count": 70,
      "outputs": [
        {
          "output_type": "stream",
          "name": "stdout",
          "text": [
            "[(1, 2, 3), (5, 7, 9), ('rabbit', 'multan')]\n"
          ]
        }
      ]
    },
    {
      "cell_type": "code",
      "source": [
        "lst.remove((\"rabbit\", \"multan\"))\n",
        "print(lst)"
      ],
      "metadata": {
        "colab": {
          "base_uri": "https://localhost:8080/"
        },
        "id": "Yn4E6DHI5gr8",
        "outputId": "f5a05d06-99b6-430f-afeb-0ff3479060f0"
      },
      "execution_count": 74,
      "outputs": [
        {
          "output_type": "stream",
          "name": "stdout",
          "text": [
            "[(5, 7, 9)]\n"
          ]
        }
      ]
    }
  ]
}